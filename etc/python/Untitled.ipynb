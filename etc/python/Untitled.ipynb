{
 "cells": [
  {
   "cell_type": "code",
   "execution_count": null,
   "id": "2429ff4d",
   "metadata": {
    "scrolled": true
   },
   "outputs": [],
   "source": [
    "#2741 - N 찍기\n",
    "n = int(input())\n",
    "\n",
    "for i in range(1,n+1):\n",
    "    print(i)"
   ]
  },
  {
   "cell_type": "code",
   "execution_count": null,
   "id": "a44a8d0f",
   "metadata": {},
   "outputs": [],
   "source": [
    "#11021 - A+B 7\n",
    "n = int(input())\n",
    "\n",
    "\n",
    "case = [list(map(int,input().split()))  for _ in range(n)]\n",
    "\n",
    "for i in range(0,n):\n",
    "    print(f\"Case #{i+1}:\", case[i][0] + case[i][1])"
   ]
  },
  {
   "cell_type": "code",
   "execution_count": null,
   "id": "42e39839",
   "metadata": {},
   "outputs": [],
   "source": [
    "#11022 - A+B 8\n",
    "n = int(input())\n",
    "\n",
    "case = [list(map(int,input().split()))  for _ in range(n)]\n",
    "\n",
    "for i in range(0,n):\n",
    "    print(f\"Case #{i+1}: {case[i][0]} + {case[i][1]} =\", case[i][0] + case[i][1])\n"
   ]
  },
  {
   "cell_type": "code",
   "execution_count": null,
   "id": "dbf408ce",
   "metadata": {},
   "outputs": [],
   "source": [
    "# 2438 - 별 찍기 1\n",
    "for i in range(1,int(input())+1): print('*' * i)"
   ]
  },
  {
   "cell_type": "code",
   "execution_count": null,
   "id": "47eed952",
   "metadata": {},
   "outputs": [],
   "source": [
    "# 2439 - 별 찍기 2\n",
    "n = int(input())\n",
    "\n",
    "for i in range(1,n+1):\n",
    "    print(' '*(n-i) + '*'*i)"
   ]
  },
  {
   "cell_type": "code",
   "execution_count": null,
   "id": "9a774c69",
   "metadata": {},
   "outputs": [],
   "source": [
    "#10871 - X보다 작은 수\n",
    "n,x = map(int,input().split())\n",
    "case = list(map(int, input().split()))\n",
    "answer = []\n",
    "\n",
    "for i in case:\n",
    "    if(x>i):\n",
    "        answer.append(i)\n",
    "        \n",
    "print(' '.join(str(s) for s in answer))"
   ]
  },
  {
   "cell_type": "code",
   "execution_count": 1,
   "id": "07304d7c",
   "metadata": {},
   "outputs": [
    {
     "name": "stdout",
     "output_type": "stream",
     "text": [
      "1 5\n",
      "6\n",
      "0 0\n"
     ]
    }
   ],
   "source": [
    "# 10952 - A+B - 5\n",
    "while True:\n",
    "    a,b = map(int,input().split())\n",
    "    if a==0 and b==0:\n",
    "        break\n",
    "    print(a+b)"
   ]
  },
  {
   "cell_type": "code",
   "execution_count": null,
   "id": "58f8d319",
   "metadata": {},
   "outputs": [],
   "source": [
    "# 10951 - A+B - 4\n",
    "while True:\n",
    "    try:\n",
    "        a,b = map(int, input().split())\n",
    "        print(a+b)\n",
    "    except:\n",
    "        break"
   ]
  },
  {
   "cell_type": "code",
   "execution_count": 7,
   "id": "a670c0aa",
   "metadata": {},
   "outputs": [
    {
     "name": "stdout",
     "output_type": "stream",
     "text": [
      "26\n",
      "68\n",
      "84\n",
      "42\n",
      "4\n"
     ]
    }
   ],
   "source": [
    "# 1110 - 더하기 사이클\n",
    "import math\n",
    "\n",
    "n = int(input())\n",
    "result = n\n",
    "cnt = 0\n",
    "\n",
    "while True:\n",
    "    a = math.floor(result/10)\n",
    "    b = result%10\n",
    "    c = (a+b) % 10\n",
    "    result = (b * 10) + c\n",
    "    \n",
    "    cnt += 1\n",
    "    if result == n:\n",
    "        break\n",
    "        \n",
    "print(cnt)\n",
    "    "
   ]
  },
  {
   "cell_type": "code",
   "execution_count": 9,
   "id": "8b9e0e2b",
   "metadata": {},
   "outputs": [
    {
     "name": "stdout",
     "output_type": "stream",
     "text": [
      "5\n",
      "20 10 35 30 7\n",
      "7 35\n"
     ]
    }
   ],
   "source": [
    "# 10818 - 최소, 최대\n",
    "n = int(input())\n",
    "case = list(map(int, input().split()))\n",
    "\n",
    "print(min(case), max(case))"
   ]
  },
  {
   "cell_type": "code",
   "execution_count": 13,
   "id": "a89212f0",
   "metadata": {},
   "outputs": [
    {
     "name": "stdout",
     "output_type": "stream",
     "text": [
      "3\n",
      "29\n",
      "38\n",
      "12\n",
      "57\n",
      "74\n",
      "40\n",
      "85\n",
      "61\n",
      "85\n",
      "8\n"
     ]
    }
   ],
   "source": [
    "# 2562 - 최댓값\n",
    "case = [int(input()) for _ in range(9)]\n",
    "\n",
    "print(max(case))\n",
    "print(case.index(max(case))+1)"
   ]
  },
  {
   "cell_type": "code",
   "execution_count": 17,
   "id": "b665ee30",
   "metadata": {},
   "outputs": [
    {
     "name": "stdout",
     "output_type": "stream",
     "text": [
      "150\n",
      "266\n",
      "427\n",
      "3\n",
      "1\n",
      "0\n",
      "2\n",
      "0\n",
      "0\n",
      "0\n",
      "2\n",
      "0\n",
      "0\n"
     ]
    }
   ],
   "source": [
    "# 2577 - 숫자의 개수\n",
    "a = int(input())\n",
    "b = int(input())\n",
    "c = int(input())\n",
    "case = str(a*b*c)\n",
    "numList = [0 for _ in range(10)]\n",
    "\n",
    "for i in case:\n",
    "    numList[int(i)] += 1\n",
    "\n",
    "for i in numList:\n",
    "    print(i)"
   ]
  },
  {
   "cell_type": "code",
   "execution_count": null,
   "id": "f179051a",
   "metadata": {},
   "outputs": [],
   "source": []
  }
 ],
 "metadata": {
  "kernelspec": {
   "display_name": "Python 3 (ipykernel)",
   "language": "python",
   "name": "python3"
  },
  "language_info": {
   "codemirror_mode": {
    "name": "ipython",
    "version": 3
   },
   "file_extension": ".py",
   "mimetype": "text/x-python",
   "name": "python",
   "nbconvert_exporter": "python",
   "pygments_lexer": "ipython3",
   "version": "3.9.7"
  }
 },
 "nbformat": 4,
 "nbformat_minor": 5
}
