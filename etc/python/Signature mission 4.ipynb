{
 "cells": [
  {
   "cell_type": "code",
   "execution_count": 15,
   "id": "61610928",
   "metadata": {},
   "outputs": [
    {
     "name": "stdout",
     "output_type": "stream",
     "text": [
      "380\n",
      "4\n"
     ]
    }
   ],
   "source": [
    "#5585 - 거스름돈\n",
    "pay = 1000 - int(input())\n",
    "cnt = 0\n",
    "coinList = [500,100,50,10,5,1]\n",
    "\n",
    "for coin in coinList:\n",
    "    cnt += pay // coin\n",
    "    pay %= coin\n",
    "\n",
    "print(cnt)"
   ]
  },
  {
   "cell_type": "code",
   "execution_count": null,
   "id": "4b9cf18f",
   "metadata": {},
   "outputs": [],
   "source": [
    "#1789 - 수들의 합\n",
    "# 1부터 차례대로 더해 s보다 커지면 그 개수에서 1 차감\n",
    "s = int(input())\n",
    "n = 1\n",
    "\n",
    "while n * (n+1)/2 <= s:\n",
    "    n += 1\n",
    "\n",
    "print(n - 1)"
   ]
  },
  {
   "cell_type": "code",
   "execution_count": 19,
   "id": "4110a858",
   "metadata": {},
   "outputs": [
    {
     "name": "stdout",
     "output_type": "stream",
     "text": [
      "5 8 20\n",
      "Case 1: 14\n",
      "5 8 17\n",
      "Case 2: 11\n",
      "0 0 0 \n"
     ]
    }
   ],
   "source": [
    "#4796 - 캠핑 (그리디)\n",
    "\n",
    "case = 1\n",
    "while True:\n",
    "    l,p,v = map(int, input().split())\n",
    "    \n",
    "    if l+p+v == 0:\n",
    "        break\n",
    "        \n",
    "    answer = (v//p)*l\n",
    "    answer += min((v%p), l)\n",
    "    print(f'Case {case}: {answer}')\n",
    "    case += 1\n",
    "        "
   ]
  },
  {
   "cell_type": "code",
   "execution_count": null,
   "id": "a03cc279",
   "metadata": {},
   "outputs": [],
   "source": [
    "#1085 - 직사각형에서 탈출\n",
    "# w,h 를 반으로 나눈 값보다 x,y가 적다면 x,y값 중 적은 게 답\n",
    "# 반으로 나눈 값보다 크다면 둘 중 낮은 값에 - 값\n",
    "x,y,w,h = map(int,input().split())\n",
    "print(min(x,y,w-x,h-y))\n",
    "\n"
   ]
  },
  {
   "cell_type": "code",
   "execution_count": 29,
   "id": "b0377f46",
   "metadata": {},
   "outputs": [
    {
     "name": "stdout",
     "output_type": "stream",
     "text": [
      "5 5\n",
      "5 7\n",
      "7 5\n",
      "7 7\n"
     ]
    }
   ],
   "source": [
    "#3009 - 네번째 점\n",
    "xList = []\n",
    "yList = []\n",
    "xAnswer = 0\n",
    "yAnswer = 0\n",
    "\n",
    "for _ in range(3):\n",
    "    x,y = map(int,input().split())\n",
    "    xList.append(x)\n",
    "    yList.append(y)\n",
    "\n",
    "    \n",
    "for i in range(3):\n",
    "    if xList.count(xList[i]) == 1:\n",
    "        xAnswer = xList[i]\n",
    "    if yList.count(yList[i]) == 1:\n",
    "        yAnswer = yList[i]\n",
    "\n",
    "print(xAnswer,yAnswer)"
   ]
  },
  {
   "cell_type": "code",
   "execution_count": 35,
   "id": "9dcf8599",
   "metadata": {},
   "outputs": [
    {
     "name": "stdout",
     "output_type": "stream",
     "text": [
      "6 8 10\n",
      "right\n",
      "25 52 60\n",
      "wrong\n",
      "5 12 13\n",
      "right\n",
      "0 0 0\n"
     ]
    }
   ],
   "source": [
    "#4153 - 직각삼각형\n",
    "while True:\n",
    "    x,y,z = map(int,input().split())\n",
    "    if x+y+z == 0:\n",
    "        break\n",
    "     \n",
    "    if max(x,y,z) ** 2 == (x ** 2)+(y ** 2)+(z ** 2) - max(x,y,z) ** 2:\n",
    "        print('right')\n",
    "    else:\n",
    "        print('wrong')"
   ]
  },
  {
   "cell_type": "code",
   "execution_count": 36,
   "id": "3321b440",
   "metadata": {},
   "outputs": [
    {
     "name": "stdout",
     "output_type": "stream",
     "text": [
      "213\n",
      "2\n"
     ]
    },
    {
     "ename": "ValueError",
     "evalue": "not enough values to unpack (expected 6, got 1)",
     "output_type": "error",
     "traceback": [
      "\u001b[0;31m---------------------------------------------------------------------------\u001b[0m",
      "\u001b[0;31mValueError\u001b[0m                                Traceback (most recent call last)",
      "\u001b[0;32m/var/folders/h9/vvhbpfxs4412zbg5pcf7ny7w0000gn/T/ipykernel_65929/3896170897.py\u001b[0m in \u001b[0;36m<module>\u001b[0;34m\u001b[0m\n\u001b[1;32m      5\u001b[0m \u001b[0;34m\u001b[0m\u001b[0m\n\u001b[1;32m      6\u001b[0m \u001b[0;32mfor\u001b[0m \u001b[0m_\u001b[0m \u001b[0;32min\u001b[0m \u001b[0mrange\u001b[0m\u001b[0;34m(\u001b[0m\u001b[0mn\u001b[0m\u001b[0;34m)\u001b[0m\u001b[0;34m:\u001b[0m\u001b[0;34m\u001b[0m\u001b[0;34m\u001b[0m\u001b[0m\n\u001b[0;32m----> 7\u001b[0;31m     \u001b[0mx1\u001b[0m\u001b[0;34m,\u001b[0m\u001b[0my1\u001b[0m\u001b[0;34m,\u001b[0m\u001b[0mr1\u001b[0m\u001b[0;34m,\u001b[0m\u001b[0mx2\u001b[0m\u001b[0;34m,\u001b[0m\u001b[0my2\u001b[0m\u001b[0;34m,\u001b[0m\u001b[0mr2\u001b[0m \u001b[0;34m=\u001b[0m \u001b[0mmap\u001b[0m\u001b[0;34m(\u001b[0m\u001b[0mint\u001b[0m\u001b[0;34m,\u001b[0m\u001b[0minput\u001b[0m\u001b[0;34m(\u001b[0m\u001b[0;34m)\u001b[0m\u001b[0;34m.\u001b[0m\u001b[0msplit\u001b[0m\u001b[0;34m(\u001b[0m\u001b[0;34m)\u001b[0m\u001b[0;34m)\u001b[0m\u001b[0;34m\u001b[0m\u001b[0;34m\u001b[0m\u001b[0m\n\u001b[0m\u001b[1;32m      8\u001b[0m     \u001b[0;31m# 두 원의 거리\u001b[0m\u001b[0;34m\u001b[0m\u001b[0;34m\u001b[0m\u001b[0m\n\u001b[1;32m      9\u001b[0m     \u001b[0mdistance\u001b[0m \u001b[0;34m=\u001b[0m \u001b[0mmath\u001b[0m\u001b[0;34m.\u001b[0m\u001b[0msqrt\u001b[0m\u001b[0;34m(\u001b[0m\u001b[0;34m(\u001b[0m\u001b[0mx1\u001b[0m\u001b[0;34m-\u001b[0m\u001b[0mx2\u001b[0m\u001b[0;34m)\u001b[0m\u001b[0;34m**\u001b[0m\u001b[0;36m2\u001b[0m \u001b[0;34m+\u001b[0m \u001b[0;34m(\u001b[0m\u001b[0my1\u001b[0m\u001b[0;34m-\u001b[0m\u001b[0my2\u001b[0m\u001b[0;34m)\u001b[0m\u001b[0;34m**\u001b[0m\u001b[0;36m2\u001b[0m\u001b[0;34m)\u001b[0m\u001b[0;34m\u001b[0m\u001b[0;34m\u001b[0m\u001b[0m\n",
      "\u001b[0;31mValueError\u001b[0m: not enough values to unpack (expected 6, got 1)"
     ]
    }
   ],
   "source": [
    "#1002 - 터렛 (풀이 작성)\n",
    "import math\n",
    "\n",
    "n = int(input())\n",
    "\n",
    "for _ in range(n):\n",
    "    x1,y1,r1,x2,y2,r2 = map(int,input().split())\n",
    "    # 두 원의 거리\n",
    "    distance = math.sqrt((x1-x2)**2 + (y1-y2)**2)\n",
    "    \n",
    "    # 두 원이 동심원이고 반지름이 같을 때\n",
    "    if distance == 0 and r1 == r2:\n",
    "        print(-1)\n",
    "    # 내접, 외접일 때\n",
    "    elif abs(r1-r2) == distance or r1 + r2 == distance:\n",
    "        print(1)\n",
    "    # 두 원이 서로 다른 두 접에서 만날 때\n",
    "    elif abs(r1-r2) < distance < (r1+r2):\n",
    "        print(2)\n",
    "    # 이 외의 상황\n",
    "    else:\n",
    "        print(0)"
   ]
  },
  {
   "cell_type": "code",
   "execution_count": 40,
   "id": "99a678bf",
   "metadata": {},
   "outputs": [
    {
     "name": "stdout",
     "output_type": "stream",
     "text": [
      "10\n",
      "3628800\n"
     ]
    }
   ],
   "source": [
    "#10872 - 팩토리얼\n",
    "import math\n",
    "print(math.factorial(int(input())))\n"
   ]
  },
  {
   "cell_type": "code",
   "execution_count": 51,
   "id": "03759786",
   "metadata": {},
   "outputs": [
    {
     "ename": "ValueError",
     "evalue": "invalid literal for int() with base 10: ''",
     "output_type": "error",
     "traceback": [
      "\u001b[0;31m---------------------------------------------------------------------------\u001b[0m",
      "\u001b[0;31mValueError\u001b[0m                                Traceback (most recent call last)",
      "\u001b[0;32m/var/folders/h9/vvhbpfxs4412zbg5pcf7ny7w0000gn/T/ipykernel_65929/2974992530.py\u001b[0m in \u001b[0;36m<module>\u001b[0;34m\u001b[0m\n\u001b[1;32m      1\u001b[0m \u001b[0;31m# 10989 - 수 정렬하기 3\u001b[0m\u001b[0;34m\u001b[0m\u001b[0;34m\u001b[0m\u001b[0m\n\u001b[1;32m      2\u001b[0m \u001b[0;32mimport\u001b[0m \u001b[0msys\u001b[0m\u001b[0;34m\u001b[0m\u001b[0;34m\u001b[0m\u001b[0m\n\u001b[0;32m----> 3\u001b[0;31m \u001b[0mn\u001b[0m \u001b[0;34m=\u001b[0m \u001b[0mint\u001b[0m\u001b[0;34m(\u001b[0m\u001b[0msys\u001b[0m\u001b[0;34m.\u001b[0m\u001b[0mstdin\u001b[0m\u001b[0;34m.\u001b[0m\u001b[0mreadline\u001b[0m\u001b[0;34m(\u001b[0m\u001b[0;34m)\u001b[0m\u001b[0;34m)\u001b[0m\u001b[0;34m\u001b[0m\u001b[0;34m\u001b[0m\u001b[0m\n\u001b[0m\u001b[1;32m      4\u001b[0m \u001b[0;34m\u001b[0m\u001b[0m\n\u001b[1;32m      5\u001b[0m \u001b[0mnumList\u001b[0m \u001b[0;34m=\u001b[0m \u001b[0;34m[\u001b[0m\u001b[0;36m0\u001b[0m\u001b[0;34m]\u001b[0m \u001b[0;34m*\u001b[0m \u001b[0;36m10001\u001b[0m\u001b[0;34m\u001b[0m\u001b[0;34m\u001b[0m\u001b[0m\n",
      "\u001b[0;31mValueError\u001b[0m: invalid literal for int() with base 10: ''"
     ]
    }
   ],
   "source": [
    "# 10989 - 수 정렬하기 3\n",
    "import sys\n",
    "n = int(input())\n",
    "\n",
    "numList = [0] * 10001\n",
    "\n",
    "for _ in range(n):\n",
    "    numList[int(sys.stdin.readline())] += 1\n",
    "    \n",
    "for i in range(10001):\n",
    "    if numList[i] != 0:\n",
    "        # 겹치는 수만큼 print\n",
    "        for j in range(numList[i]):\n",
    "            print(i)\n"
   ]
  },
  {
   "cell_type": "code",
   "execution_count": 71,
   "id": "f05bef1d",
   "metadata": {},
   "outputs": [
    {
     "name": "stdout",
     "output_type": "stream",
     "text": [
      "10 500\n",
      "93 181 245 214 415 36 185 138 216 295\n",
      "497\n"
     ]
    }
   ],
   "source": [
    "# 2798 - 블랙잭\n",
    "from itertools import permutations\n",
    "\n",
    "n,m = map(int,input().split())\n",
    "cards = list(map(int,input().split()))\n",
    "sumData = []\n",
    "for i in list(permutations(cards,3)):\n",
    "    if sum(i) <= m:\n",
    "        sumData.append(sum(i))\n",
    "\n",
    "print(max(sumData))\n"
   ]
  },
  {
   "cell_type": "code",
   "execution_count": 83,
   "id": "00040c3d",
   "metadata": {},
   "outputs": [
    {
     "name": "stdout",
     "output_type": "stream",
     "text": [
      "216\n",
      "198\n"
     ]
    }
   ],
   "source": [
    "#2231 - 분해합\n",
    "n = int(input())\n",
    "\n",
    "for i in range(1, n+1):\n",
    "        num = sum(map(int, str(i)))\n",
    "        sumData = i + num\n",
    "        \n",
    "        if sumData == n:\n",
    "            print(i)\n",
    "            break\n",
    "        elif i == n:\n",
    "            print(0)\n",
    "    \n",
    "\n"
   ]
  },
  {
   "cell_type": "code",
   "execution_count": 91,
   "id": "3482c538",
   "metadata": {},
   "outputs": [
    {
     "name": "stdout",
     "output_type": "stream",
     "text": [
      "2\n",
      "55 178\n",
      "46 192\n",
      "1 1\n"
     ]
    }
   ],
   "source": [
    "#7568 - 덩치\n",
    "n = int(input())\n",
    "case = [list(map(int,input().split())) for _ in range(n)]\n",
    "rank = []\n",
    "\n",
    "for i in range(n):\n",
    "    cnt = 0\n",
    "    for j in range(n):\n",
    "        if case[i][0] < case[j][0] and case[i][1] < case[j][1]:\n",
    "            cnt += 1\n",
    "    rank.append(cnt + 1)\n",
    "    \n",
    "print(' '.join(map(str,rank)))"
   ]
  },
  {
   "cell_type": "code",
   "execution_count": 97,
   "id": "5259e96b",
   "metadata": {},
   "outputs": [
    {
     "name": "stdout",
     "output_type": "stream",
     "text": [
      "8 8\n",
      "WBWBWBWB\n",
      "BWBWBWBW\n",
      "WBWBWBWB\n",
      "BWBBBWBW\n",
      "WBWBWBWB\n",
      "BWBWBWBWB\n",
      "WBWBWBWB\n",
      "BWBWBWBW\n",
      "1\n"
     ]
    }
   ],
   "source": [
    "#1018 - 체스판 다시 칠하기 (완전탐색) (풀이 작성)\n",
    "n, m = map(int,input().split())\n",
    "board = [list(input()) for _ in range(n)] # 체스판\n",
    "order = ['W','B'] # 색상표\n",
    "answer = 64\n",
    "\n",
    "# i,j = 색상 변경 시점\n",
    "for i in range(n - 7):\n",
    "    for j in range(m - 7):\n",
    "        color = 0\n",
    "        for idx in range(8):\n",
    "            # 행의 index를 2로 나눈 나머지를 추가해서 색상 변경 조건 확인\n",
    "            cnt = idx % 2\n",
    "            for jdx in range(8):\n",
    "                if board[i+idx][j+jdx] == order[(cnt + jdx) % 2]:\n",
    "                    color += 1\n",
    "        answer = min(answer, color, 64 - color)\n",
    "\n",
    "print(answer)\n",
    "            "
   ]
  },
  {
   "cell_type": "code",
   "execution_count": null,
   "id": "227deb34",
   "metadata": {},
   "outputs": [],
   "source": [
    "#1436 - 영화감독 숌 (브루트포스) (풀이 추가)\n",
    "n = int(input())\n",
    "nth = 66\n",
    "cnt = 0\n",
    "\n",
    "while True:\n",
    "    # n번째 수에 '666'이 포함되어 있다면 카운트 추가\n",
    "    if '666' in str(nth):\n",
    "        cnt += 1\n",
    "    # 카운트 수와 n번째 수가 같다면 nth출력\n",
    "    if cnt == n:\n",
    "        print(nth)\n",
    "        break\n",
    "    # 666이 포함된 수가 나올때가지 nth 1씩 증가\n",
    "    nth += 1\n",
    "        "
   ]
  },
  {
   "cell_type": "code",
   "execution_count": 102,
   "id": "c136bfe5",
   "metadata": {},
   "outputs": [
    {
     "name": "stdout",
     "output_type": "stream",
     "text": [
      "3\n",
      "10\n",
      "20\n",
      "1000\n"
     ]
    },
    {
     "ename": "AttributeError",
     "evalue": "'list' object has no attribute 'appand'",
     "output_type": "error",
     "traceback": [
      "\u001b[0;31m---------------------------------------------------------------------------\u001b[0m",
      "\u001b[0;31mAttributeError\u001b[0m                            Traceback (most recent call last)",
      "\u001b[0;32m/var/folders/h9/vvhbpfxs4412zbg5pcf7ny7w0000gn/T/ipykernel_65929/820331013.py\u001b[0m in \u001b[0;36m<module>\u001b[0;34m\u001b[0m\n\u001b[1;32m     14\u001b[0m             \u001b[0;32mbreak\u001b[0m\u001b[0;34m\u001b[0m\u001b[0;34m\u001b[0m\u001b[0m\n\u001b[1;32m     15\u001b[0m \u001b[0;34m\u001b[0m\u001b[0m\n\u001b[0;32m---> 16\u001b[0;31m         \u001b[0mcase\u001b[0m\u001b[0;34m.\u001b[0m\u001b[0mappand\u001b[0m\u001b[0;34m(\u001b[0m\u001b[0mtriangle\u001b[0m\u001b[0;34m)\u001b[0m\u001b[0;34m\u001b[0m\u001b[0;34m\u001b[0m\u001b[0m\n\u001b[0m\u001b[1;32m     17\u001b[0m \u001b[0;34m\u001b[0m\u001b[0m\n\u001b[1;32m     18\u001b[0m     \u001b[0mcom\u001b[0m \u001b[0;34m=\u001b[0m \u001b[0mlist\u001b[0m\u001b[0;34m(\u001b[0m\u001b[0mcombinations_with_replacement\u001b[0m\u001b[0;34m(\u001b[0m\u001b[0mcase\u001b[0m\u001b[0;34m,\u001b[0m\u001b[0;36m3\u001b[0m\u001b[0;34m)\u001b[0m\u001b[0;34m)\u001b[0m\u001b[0;34m\u001b[0m\u001b[0;34m\u001b[0m\u001b[0m\n",
      "\u001b[0;31mAttributeError\u001b[0m: 'list' object has no attribute 'appand'"
     ]
    }
   ],
   "source": [
    "#10448 - 유레카 이론 (브루트포스) (풀이 추가)\n",
    "from itertools import combinations_with_replacement\n",
    "\n",
    "n = int(input())\n",
    "numbers = [int(input()) for _ in range(n)]\n",
    "\n",
    "for num in numbers:\n",
    "    case = []\n",
    "    answer = 0\n",
    "    \n",
    "    for j in range(1, num+1):\n",
    "        triangle = j * (j+1) // 2\n",
    "        if triangle > num:\n",
    "            break\n",
    "        \n",
    "        case.append(triangle)\n",
    "        \n",
    "    com = list(combinations_with_replacement(case,3))\n",
    "    \n",
    "    for k in com:\n",
    "        if sum(k) == num:\n",
    "            answer = 1\n",
    "            break\n",
    "    \n",
    "    print(answer)"
   ]
  },
  {
   "cell_type": "code",
   "execution_count": 108,
   "id": "c1b61ee6",
   "metadata": {},
   "outputs": [
    {
     "name": "stdout",
     "output_type": "stream",
     "text": [
      "11\n",
      "1 4\n",
      "3 5\n",
      "0 6\n",
      "5 7\n",
      "3 8\n",
      "5 9\n",
      "6 10\n",
      "8 11\n",
      "8 12\n",
      "2 13\n",
      "12 14\n",
      "4\n"
     ]
    }
   ],
   "source": [
    "# 1931 - 회의실 배정\n",
    "n = int(input())\n",
    "time = [list(map(int,input().split())) for _ in range(n)]\n",
    "cnt = 1\n",
    "\n",
    "# 끝나는 시간 순으로 정렬\n",
    "time.sort(key = lambda x: (x[1],x[0]))\n",
    "\n",
    "# 처음 회의의 끝나는 시간 설정\n",
    "endTime = time[0][1]\n",
    "for i in range(1,n):\n",
    "    # 해당 회의의 시작 시간이 이전 회의 끝나는 시간보다 긴 경우\n",
    "    if time[i][0] >= endTime:\n",
    "        cnt += 1\n",
    "        endTime = time[i][1]\n",
    "\n",
    "print(cnt)\n",
    "\n",
    "\n",
    "    "
   ]
  },
  {
   "cell_type": "code",
   "execution_count": 119,
   "id": "03fbcddb",
   "metadata": {},
   "outputs": [
    {
     "name": "stdout",
     "output_type": "stream",
     "text": [
      "4\n",
      "1 2 3 4\n",
      "1 2 4 3\n",
      "1 3 2 4\n",
      "1 3 4 2\n",
      "1 4 2 3\n",
      "1 4 3 2\n",
      "2 1 3 4\n",
      "2 1 4 3\n",
      "2 3 1 4\n",
      "2 3 4 1\n",
      "2 4 1 3\n",
      "2 4 3 1\n",
      "3 1 2 4\n",
      "3 1 4 2\n",
      "3 2 1 4\n",
      "3 2 4 1\n",
      "3 4 1 2\n",
      "3 4 2 1\n",
      "4 1 2 3\n",
      "4 1 3 2\n",
      "4 2 1 3\n",
      "4 2 3 1\n",
      "4 3 1 2\n",
      "4 3 2 1\n"
     ]
    }
   ],
   "source": [
    "#10974 - 모든 순열\n",
    "import math\n",
    "from itertools import permutations\n",
    "\n",
    "n = int(input())\n",
    "case = [i+1 for i in range(n)]\n",
    "\n",
    "for i in list(permutations(case,n)):\n",
    "    print(' '.join(map(str,i)))"
   ]
  },
  {
   "cell_type": "code",
   "execution_count": 126,
   "id": "6fa028e7",
   "metadata": {},
   "outputs": [
    {
     "name": "stdout",
     "output_type": "stream",
     "text": [
      "4\n",
      "123 1 1\n",
      "356 1 0\n",
      "327 2 0\n",
      "489 0 1\n",
      "2\n"
     ]
    }
   ],
   "source": [
    "# 2503 - 숫자 야구\n",
    "from itertools import permutations\n",
    "n = int(input())\n",
    "numList = list(permutations(range(1,10), 3))\n",
    "\n",
    "for _ in range(n):\n",
    "    case, s, b = map(int, input().split())\n",
    "    case = list(map(int,str(case))) # 받은 정보를 list로 변경\n",
    "    removeCnt = 0\n",
    "    \n",
    "    # 미리 만든 경우의 수만큼 반복\n",
    "    for i in range(len(numList)):\n",
    "        strike = ball = 0\n",
    "        i -= removeCnt # remove 된 만큼 index 차감 후 진행\n",
    "        \n",
    "        # 정보 확인\n",
    "        for j in range(3):\n",
    "            if case[j] in numList[i]:\n",
    "                if j == numList[i].index(case[j]):\n",
    "                    strike += 1\n",
    "                else:\n",
    "                    ball += 1\n",
    "        \n",
    "        # 지정한 정보와 하나라도 틀리면 해당 경우의 수 삭제\n",
    "        if strike != s or ball != b:\n",
    "            numList.remove(numList[i])\n",
    "            removeCnt += 1\n",
    "\n",
    "# 답이 나올 수 있는 경우의 수 출력\n",
    "print(len(numList))"
   ]
  },
  {
   "cell_type": "code",
   "execution_count": null,
   "id": "a7726e99",
   "metadata": {},
   "outputs": [],
   "source": [
    "#1182 - 부분수열의 합 (브루트포스) \n",
    "from itertools import combinations\n",
    "\n",
    "n,s = map(int, input().split())\n",
    "arr = list(map(int, input().split()))\n",
    "cnt = 0\n",
    "\n",
    "# 수열들의 조합을 모두 확인\n",
    "for i in range(1, n+1):\n",
    "    comb = combinations(arr, i)\n",
    "\n",
    "    # 해당 수열들의 합들이 원하는 값과 같다면 cnt 추가\n",
    "    for x in comb:\n",
    "        if sum(x) == s:\n",
    "            cnt += 1\n",
    "\n",
    "print(cnt)"
   ]
  },
  {
   "cell_type": "code",
   "execution_count": 128,
   "id": "92ff9a05",
   "metadata": {},
   "outputs": [
    {
     "name": "stdout",
     "output_type": "stream",
     "text": [
      "3\n",
      "0 3\n",
      "3\n",
      "1 5\n",
      "3\n",
      "45 50\n",
      "4\n"
     ]
    }
   ],
   "source": [
    "#1011 - fly me to the Alpha Centauri\n",
    "n = int(input())\n",
    "\n",
    "for _ in range(n):\n",
    "    x,y = map(int,input().split())\n",
    "    distance = y - x\n",
    "    cnt = 0 # 이동 횟수\n",
    "    move = 1 # 이동 가능한 거리\n",
    "    plus = 0 # 이동한 거리의 합\n",
    "    while plus < distance:\n",
    "        cnt +=1\n",
    "        plus += move # cnt 수에 해당하는 move를 더함\n",
    "        if cnt % 2 == 0:\n",
    "            move += 1\n",
    "    print(cnt)"
   ]
  },
  {
   "cell_type": "code",
   "execution_count": null,
   "id": "eeada39d",
   "metadata": {},
   "outputs": [],
   "source": []
  }
 ],
 "metadata": {
  "kernelspec": {
   "display_name": "Python 3 (ipykernel)",
   "language": "python",
   "name": "python3"
  },
  "language_info": {
   "codemirror_mode": {
    "name": "ipython",
    "version": 3
   },
   "file_extension": ".py",
   "mimetype": "text/x-python",
   "name": "python",
   "nbconvert_exporter": "python",
   "pygments_lexer": "ipython3",
   "version": "3.9.7"
  }
 },
 "nbformat": 4,
 "nbformat_minor": 5
}
