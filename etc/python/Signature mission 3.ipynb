{
 "cells": [
  {
   "cell_type": "code",
   "execution_count": null,
   "id": "3a0c491d",
   "metadata": {},
   "outputs": [],
   "source": [
    "#11654 - 아스키코드\n",
    "print(ord(input()))"
   ]
  },
  {
   "cell_type": "code",
   "execution_count": 6,
   "id": "a9ff1e51",
   "metadata": {},
   "outputs": [
    {
     "name": "stdout",
     "output_type": "stream",
     "text": [
      "5\n",
      "54321\n",
      "15\n"
     ]
    }
   ],
   "source": [
    "#11720 - 숫자의 합\n",
    "n = int(input())\n",
    "print(sum(list(map(int,input()))))"
   ]
  },
  {
   "cell_type": "code",
   "execution_count": 8,
   "id": "ee0dec0f",
   "metadata": {},
   "outputs": [
    {
     "name": "stdout",
     "output_type": "stream",
     "text": [
      "backjoon\n",
      "1\n",
      "0\n",
      "2\n",
      "-1\n",
      "-1\n",
      "-1\n",
      "-1\n",
      "-1\n",
      "-1\n",
      "4\n",
      "3\n",
      "-1\n",
      "-1\n",
      "7\n",
      "5\n",
      "-1\n",
      "-1\n",
      "-1\n",
      "-1\n",
      "-1\n",
      "-1\n",
      "-1\n",
      "-1\n",
      "-1\n",
      "-1\n",
      "-1\n"
     ]
    }
   ],
   "source": [
    "#10809 - 알파벳 찾기\n",
    "word = input()\n",
    "\n",
    "\n",
    "for i in list(range(97,123)):\n",
    "    print(word.find(chr(i)))\n"
   ]
  },
  {
   "cell_type": "code",
   "execution_count": 10,
   "id": "502d6f64",
   "metadata": {},
   "outputs": [
    {
     "name": "stdout",
     "output_type": "stream",
     "text": [
      "2\n",
      "3 ABC\n",
      "5 /HTP\n",
      "AAABBBCCC\n",
      "/////HHHHHTTTTTPPPPP\n"
     ]
    }
   ],
   "source": [
    "# 2675 - 문자열 반복\n",
    "n = int(input())\n",
    "case = [input().split() for i in range(n)]\n",
    "\n",
    "for i in case:\n",
    "    answer = ''\n",
    "    for word in list(i[1]):\n",
    "        answer += word * int(i[0])\n",
    "    print(answer)"
   ]
  },
  {
   "cell_type": "code",
   "execution_count": 25,
   "id": "1c14c247",
   "metadata": {},
   "outputs": [
    {
     "name": "stdout",
     "output_type": "stream",
     "text": [
      "zxcasdd\n",
      "['Z', 'C', 'D', 'X', 'S', 'A']\n",
      "[1, 1, 2, 1, 1, 1]\n"
     ]
    },
    {
     "ename": "ValueError",
     "evalue": "2 is not in list",
     "output_type": "error",
     "traceback": [
      "\u001b[0;31m---------------------------------------------------------------------------\u001b[0m",
      "\u001b[0;31mValueError\u001b[0m                                Traceback (most recent call last)",
      "\u001b[0;32m/var/folders/h9/vvhbpfxs4412zbg5pcf7ny7w0000gn/T/ipykernel_51904/2534362942.py\u001b[0m in \u001b[0;36m<module>\u001b[0;34m\u001b[0m\n\u001b[1;32m     12\u001b[0m     \u001b[0mprint\u001b[0m\u001b[0;34m(\u001b[0m\u001b[0;34m'?'\u001b[0m\u001b[0;34m)\u001b[0m\u001b[0;34m\u001b[0m\u001b[0;34m\u001b[0m\u001b[0m\n\u001b[1;32m     13\u001b[0m \u001b[0;32melse\u001b[0m\u001b[0;34m:\u001b[0m\u001b[0;34m\u001b[0m\u001b[0;34m\u001b[0m\u001b[0m\n\u001b[0;32m---> 14\u001b[0;31m     \u001b[0mmax_index\u001b[0m \u001b[0;34m=\u001b[0m \u001b[0mkeyword\u001b[0m\u001b[0;34m.\u001b[0m\u001b[0mindex\u001b[0m\u001b[0;34m(\u001b[0m\u001b[0mmax\u001b[0m\u001b[0;34m(\u001b[0m\u001b[0mcntList\u001b[0m\u001b[0;34m)\u001b[0m\u001b[0;34m)\u001b[0m\u001b[0;34m\u001b[0m\u001b[0;34m\u001b[0m\u001b[0m\n\u001b[0m\u001b[1;32m     15\u001b[0m     \u001b[0mprint\u001b[0m\u001b[0;34m(\u001b[0m\u001b[0mmax_index\u001b[0m\u001b[0;34m)\u001b[0m\u001b[0;34m\u001b[0m\u001b[0;34m\u001b[0m\u001b[0m\n\u001b[1;32m     16\u001b[0m     \u001b[0mprint\u001b[0m\u001b[0;34m(\u001b[0m\u001b[0mkeyword\u001b[0m\u001b[0;34m[\u001b[0m\u001b[0mmax_index\u001b[0m\u001b[0;34m]\u001b[0m\u001b[0;34m)\u001b[0m\u001b[0;34m\u001b[0m\u001b[0;34m\u001b[0m\u001b[0m\n",
      "\u001b[0;31mValueError\u001b[0m: 2 is not in list"
     ]
    }
   ],
   "source": [
    "# 1157 - 단어 공부\n",
    "word = input().upper()\n",
    "keyword = list(set(word))\n",
    "cntList = []\n",
    "\n",
    "for i in keyword:\n",
    "    cntList.append(word.count(i))\n",
    "\n",
    "if cntList.count(max(cntList)) > 1:\n",
    "    print('?')\n",
    "else:\n",
    "    maxIndex = cntList.index(max(cntList))\n",
    "    print(keyword[maxIndex])"
   ]
  },
  {
   "cell_type": "code",
   "execution_count": 27,
   "id": "1f460aaf",
   "metadata": {},
   "outputs": [
    {
     "name": "stdout",
     "output_type": "stream",
     "text": [
      " The first character is a blank\n",
      "6\n"
     ]
    }
   ],
   "source": [
    "#1151 - 단어의 개수\n",
    "print(len(input().split()))"
   ]
  },
  {
   "cell_type": "code",
   "execution_count": 38,
   "id": "8ace1bea",
   "metadata": {},
   "outputs": [
    {
     "name": "stdout",
     "output_type": "stream",
     "text": [
      "734 893\n",
      "437\n"
     ]
    }
   ],
   "source": [
    "#2908 - 상수\n",
    "before, after  = input().split()\n",
    "print(max(''.join(reversed(before)), ''.join(reversed(after))))"
   ]
  },
  {
   "cell_type": "code",
   "execution_count": 43,
   "id": "b6893a8d",
   "metadata": {},
   "outputs": [
    {
     "name": "stdout",
     "output_type": "stream",
     "text": [
      "WA\n",
      "13\n"
     ]
    }
   ],
   "source": [
    "#5622 - 다이얼\n",
    "dialog = ['ABC','DEF','GHI','JKL','MNO','PQRS','TUV','WXYZ']\n",
    "word = input()\n",
    "answer = 0\n",
    "for i in list(word):\n",
    "    for j in dialog:\n",
    "        if i in j:\n",
    "          answer += dialog.index(j) + 3\n",
    "        \n",
    "print(answer)\n"
   ]
  },
  {
   "cell_type": "code",
   "execution_count": 44,
   "id": "f803ecf5",
   "metadata": {},
   "outputs": [
    {
     "name": "stdout",
     "output_type": "stream",
     "text": [
      "ljes=njak\n",
      "6\n"
     ]
    }
   ],
   "source": [
    "#2941 - 크로아티아 알파벳\n",
    "croatia = ['c=', 'c-', 'dz=', 'd-', 'lj', 'nj', 's=', 'z=']\n",
    "word = input()\n",
    "\n",
    "for i in croatia:\n",
    "    word = word.replace(i, '*')\n",
    "print(len(word))"
   ]
  },
  {
   "cell_type": "code",
   "execution_count": 57,
   "id": "2df909d0",
   "metadata": {},
   "outputs": [
    {
     "name": "stdout",
     "output_type": "stream",
     "text": [
      "4\n",
      "aba\n",
      "abab\n",
      "abcabc\n",
      "a\n",
      "1\n"
     ]
    }
   ],
   "source": [
    "#1316 - 그룹 단어 체커\n",
    "n = int(input())\n",
    "case = [input() for _ in range(n)]\n",
    "answer = 0\n",
    "\n",
    "for word in case:\n",
    "    err = 0\n",
    "    for i in range(len(word)-1):\n",
    "        if word[i] != word[i+1]: # 다음 단어와 다른 경우 이후 문자열을 새로운 단어로 변경\n",
    "            temp = word[i+1:]\n",
    "            if temp.count(word[i]) > 0: # 그 뒤의 문자 중 남아있는 문자가 있다면 err\n",
    "                err += 1\n",
    "                break\n",
    "    if err == 0:\n",
    "        answer += 1\n",
    "\n",
    "print(answer)\n",
    "    "
   ]
  },
  {
   "cell_type": "code",
   "execution_count": 65,
   "id": "947af8fc",
   "metadata": {},
   "outputs": [
    {
     "name": "stdout",
     "output_type": "stream",
     "text": [
      "1000 70 170\n",
      "11\n"
     ]
    }
   ],
   "source": [
    "#1712 - 손익분기점\n",
    "a,b,c = map(int, input().split())\n",
    "\n",
    "if b >= c:\n",
    "    print(-1)\n",
    "else:\n",
    "    print(int(a/(c-b)+1))\n"
   ]
  },
  {
   "cell_type": "code",
   "execution_count": 69,
   "id": "57f6b7a7",
   "metadata": {},
   "outputs": [
    {
     "name": "stdout",
     "output_type": "stream",
     "text": [
      "15\n",
      "3\n"
     ]
    }
   ],
   "source": [
    "#2839 - 설탕 배달\n",
    "n = int(input())\n",
    "cnt = 0\n",
    "\n",
    "while True:\n",
    "    if n%5 == 0:\n",
    "        print(int(n/5 + cnt))\n",
    "        break;\n",
    "    elif n<=0:\n",
    "        print(-1)\n",
    "        break;\n",
    "    n -= 3\n",
    "    cnt += 1"
   ]
  },
  {
   "cell_type": "code",
   "execution_count": 70,
   "id": "d216a674",
   "metadata": {
    "scrolled": true
   },
   "outputs": [
    {
     "name": "stdout",
     "output_type": "stream",
     "text": [
      "15\n",
      "3\n"
     ]
    }
   ],
   "source": [
    "#2292 - 벌집\n",
    "n = int(input())\n",
    "cnt = 1\n",
    "while n > 1:\n",
    "    n -= (6 * cnt) # 둘레 길이만큼 빼면서 해당 위치 검색\n",
    "    cnt += 1\n",
    "print(cnt)"
   ]
  },
  {
   "cell_type": "code",
   "execution_count": 72,
   "id": "3ab016a7",
   "metadata": {},
   "outputs": [
    {
     "name": "stdout",
     "output_type": "stream",
     "text": [
      "14\n",
      "2/4\n"
     ]
    }
   ],
   "source": [
    "#1193 - 분수찾기\n",
    "n = int(input())\n",
    "line = 1\n",
    "\n",
    "# 라인 위치 검색\n",
    "while n>line:\n",
    "    n -= line\n",
    "    line += 1\n",
    "\n",
    "# 분자 위치, 짝수 = 오름차순, 홀수 = 내림차순\n",
    "if line%2 == 0:\n",
    "    a = n\n",
    "    b = line-n+1\n",
    "else:\n",
    "    a = line-n+1\n",
    "    b = n\n",
    "\n",
    "print(a, '/', b, sep='')"
   ]
  },
  {
   "cell_type": "code",
   "execution_count": 81,
   "id": "b4109a7a",
   "metadata": {},
   "outputs": [
    {
     "name": "stdout",
     "output_type": "stream",
     "text": [
      "100 99 100000000\n",
      "99999901\n",
      "5\n"
     ]
    }
   ],
   "source": [
    "# 2869 - 달팽이는 올라가고 싶다\n",
    "a,b,v = map(int,input().split())\n",
    "k = (v-b)/(a-b)\n",
    "if k == int(k):\n",
    "    print(int(k))\n",
    "else:\n",
    "    print(int(k)+1)\n"
   ]
  },
  {
   "cell_type": "code",
   "execution_count": null,
   "id": "84b65991",
   "metadata": {},
   "outputs": [],
   "source": [
    "# 10250 - ACM 호텔\n",
    "n = int(input())\n",
    "case = [map(int,input().split()) for _ in range(n)]\n",
    "\n",
    "for data in case:\n",
    "    h,w,n = data\n",
    "    floor= 0\n",
    "    room = 0\n",
    "    if n % h == 0:\n",
    "        floor = h * 100\n",
    "        room = n // h\n",
    "    else:\n",
    "        floor = (n % h) * 100\n",
    "        room = 1 + n // h\n",
    "    print(floor + room)\n"
   ]
  },
  {
   "cell_type": "code",
   "execution_count": 88,
   "id": "bf1ccbe7",
   "metadata": {},
   "outputs": [
    {
     "name": "stdout",
     "output_type": "stream",
     "text": [
      "2\n",
      "1\n",
      "3\n",
      "6\n",
      "1\n",
      "3\n",
      "6\n"
     ]
    }
   ],
   "source": [
    "# 2775 - 부녀회장이 될테야\n",
    "n = int(input())\n",
    "\n",
    "for _ in range(n):\n",
    "    floor = int(input())\n",
    "    room = int(input())\n",
    "    firstFloor = [i for i in range(1, room+1)]\n",
    "    \n",
    "    for i in range(floor):\n",
    "        for j in range(1, room):\n",
    "            firstFloor[j] += firstFloor[j-1]\n",
    "    \n",
    "    print(firstFloor[-1])"
   ]
  },
  {
   "cell_type": "code",
   "execution_count": 92,
   "id": "03948008",
   "metadata": {},
   "outputs": [
    {
     "name": "stdout",
     "output_type": "stream",
     "text": [
      "189\n",
      "-1\n"
     ]
    }
   ],
   "source": [
    "# 10162 - 전자레인지\n",
    "time = int(input())\n",
    "\n",
    "if time % 10 != 0:\n",
    "    print(-1)\n",
    "    \n",
    "else:\n",
    "    a = b = c = 0\n",
    "    a = time // 300\n",
    "    b = (time % 300) // 60\n",
    "    c = (time % 300) % 60 // 10\n",
    "    print(a,b,c)\n",
    "\n",
    "    "
   ]
  },
  {
   "cell_type": "code",
   "execution_count": null,
   "id": "1a11dce4",
   "metadata": {},
   "outputs": [],
   "source": [
    "#1439 - 뒤집기 (그리디)\n",
    "n = input()\n",
    "cnt = 0\n",
    "\n",
    "for i in range(len(n)-1):\n",
    "    # 변화 횟수를 저장\n",
    "    if n[i] != n[i+1]:\n",
    "        cnt += 1\n",
    "\n",
    "# 0 또는 1 로 바꾸면 되기 때문에 // 2 진행\n",
    "print((cnt+1)//2)"
   ]
  },
  {
   "cell_type": "code",
   "execution_count": null,
   "id": "01335eec",
   "metadata": {},
   "outputs": [],
   "source": [
    "#3053 - 택시 기하학\n",
    "import math\n",
    "r = int(input())\n",
    "print(r * r * math.pi)\n",
    "print(r * r * 2)"
   ]
  }
 ],
 "metadata": {
  "kernelspec": {
   "display_name": "Python 3 (ipykernel)",
   "language": "python",
   "name": "python3"
  },
  "language_info": {
   "codemirror_mode": {
    "name": "ipython",
    "version": 3
   },
   "file_extension": ".py",
   "mimetype": "text/x-python",
   "name": "python",
   "nbconvert_exporter": "python",
   "pygments_lexer": "ipython3",
   "version": "3.9.7"
  }
 },
 "nbformat": 4,
 "nbformat_minor": 5
}
