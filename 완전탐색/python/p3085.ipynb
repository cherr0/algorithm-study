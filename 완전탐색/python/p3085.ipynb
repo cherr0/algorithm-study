{
 "cells": [
  {
   "cell_type": "markdown",
   "id": "25444a21",
   "metadata": {},
   "source": []
  },
  {
   "cell_type": "code",
   "execution_count": 2,
   "id": "903a1e64",
   "metadata": {},
   "outputs": [
    {
     "name": "stdout",
     "output_type": "stream",
     "text": [
      "3\n",
      "ccp\n",
      "ccp\n",
      "ppc\n",
      "3\n"
     ]
    }
   ],
   "source": [
    "def lengthCheck(array):\n",
    "    n = len(array)\n",
    "    maxLength = 1\n",
    "    \n",
    "    for i in range(n):\n",
    "        count = 1\n",
    "        \n",
    "        for j in range(1, n):\n",
    "            if array[i][j] == array[i][j-1]:\n",
    "                count += 1\n",
    "            else:\n",
    "                count = 1\n",
    "            maxLength = max(maxLength, count)\n",
    "                \n",
    "        count = 1\n",
    "        for j in range(1, n):\n",
    "            if array[j][i] == array[j-1][i]:\n",
    "                count += 1 \n",
    "            else:\n",
    "                count = 1\n",
    "                \n",
    "            maxLength = max(maxLength, count)\n",
    "\n",
    "    return maxLength;\n",
    "    \n",
    "n = int(input())\n",
    "boardList = [list(input()) for _ in range(n)]\n",
    "answer = 0\n",
    "\n",
    "for i in range(n):\n",
    "    for j in range(n):\n",
    "        if (j+1 < n):\n",
    "            boardList[i][j+1], boardList[i][j] = boardList[i][j], boardList[i][j+1]\n",
    "            \n",
    "            answer = max(answer, lengthCheck(boardList))\n",
    "            boardList[i][j+1], boardList[i][j] = boardList[i][j], boardList[i][j+1]\n",
    "        \n",
    "        if (i+1 < n):\n",
    "            boardList[i][j], boardList[i+1][j] = boardList[i+1][j], boardList[i][j]\n",
    "            \n",
    "            answer = max(answer, lengthCheck(boardList))\n",
    "            boardList[i][j], boardList[i+1][j] = boardList[i+1][j], boardList[i][j]\n",
    "            \n",
    "            \n",
    "            \n",
    "print(answer)\n",
    "\n"
   ]
  }
 ],
 "metadata": {
  "kernelspec": {
   "display_name": "Python 3 (ipykernel)",
   "language": "python",
   "name": "python3"
  },
  "language_info": {
   "codemirror_mode": {
    "name": "ipython",
    "version": 3
   },
   "file_extension": ".py",
   "mimetype": "text/x-python",
   "name": "python",
   "nbconvert_exporter": "python",
   "pygments_lexer": "ipython3",
   "version": "3.9.7"
  }
 },
 "nbformat": 4,
 "nbformat_minor": 5
}
