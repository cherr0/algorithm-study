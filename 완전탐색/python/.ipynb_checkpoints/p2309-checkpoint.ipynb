{
 "cells": [
  {
   "cell_type": "code",
   "execution_count": 4,
   "id": "9a68db82",
   "metadata": {},
   "outputs": [
    {
     "name": "stdout",
     "output_type": "stream",
     "text": [
      "20\n",
      "7\n",
      "23\n",
      "19\n",
      "10\n",
      "8\n",
      "13\n"
     ]
    }
   ],
   "source": [
    "from itertools import combinations\n",
    "\n",
    "# array = []\n",
    "\n",
    "# for _ in range(9):\n",
    "#     array.append(int(input()))\n",
    "\n",
    "array = [20,7,23,19,10,15,25,8,13]\n",
    "\n",
    "\n",
    "for heightList in list(combinations(array, 7)):\n",
    "    if sum(heightList) == 100:\n",
    "        \n",
    "        for i in sorted(heightList):\n",
    "            print(i);\n",
    "        break;\n",
    "        \n",
    "    \n",
    "    "
   ]
  }
 ],
 "metadata": {
  "kernelspec": {
   "display_name": "Python 3 (ipykernel)",
   "language": "python",
   "name": "python3"
  },
  "language_info": {
   "codemirror_mode": {
    "name": "ipython",
    "version": 3
   },
   "file_extension": ".py",
   "mimetype": "text/x-python",
   "name": "python",
   "nbconvert_exporter": "python",
   "pygments_lexer": "ipython3",
   "version": "3.9.7"
  }
 },
 "nbformat": 4,
 "nbformat_minor": 5
}
