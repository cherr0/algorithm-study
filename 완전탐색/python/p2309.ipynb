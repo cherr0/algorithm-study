{
 "cells": [
  {
   "cell_type": "code",
   "execution_count": 5,
   "id": "efb7dec9",
   "metadata": {},
   "outputs": [
    {
     "name": "stdout",
     "output_type": "stream",
     "text": [
      "7\n",
      "8\n",
      "10\n",
      "13\n",
      "19\n",
      "20\n",
      "23\n"
     ]
    }
   ],
   "source": [
    "from itertools import combinations\n",
    "\n",
    "array = []\n",
    "\n",
    "for _ in range(9):\n",
    "    array.append(int(input()))\n",
    "\n",
    "\n",
    "for heightList in list(combinations(array, 7)):\n",
    "    if sum(heightList) == 100:\n",
    "        \n",
    "        for i in sorted(heightList):\n",
    "            print(i);\n",
    "        break;\n",
    "        \n",
    "    \n",
    "    "
   ]
  }
 ],
 "metadata": {
  "kernelspec": {
   "display_name": "Python 3 (ipykernel)",
   "language": "python",
   "name": "python3"
  },
  "language_info": {
   "codemirror_mode": {
    "name": "ipython",
    "version": 3
   },
   "file_extension": ".py",
   "mimetype": "text/x-python",
   "name": "python",
   "nbconvert_exporter": "python",
   "pygments_lexer": "ipython3",
   "version": "3.9.7"
  }
 },
 "nbformat": 4,
 "nbformat_minor": 5
}
