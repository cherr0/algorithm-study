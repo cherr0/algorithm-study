{
 "cells": [
  {
   "cell_type": "code",
   "execution_count": 6,
   "id": "07ab1218",
   "metadata": {},
   "outputs": [
    {
     "name": "stdout",
     "output_type": "stream",
     "text": [
      "3 4200\n",
      "100\n",
      "200\n",
      "4000\n",
      "2\n"
     ]
    }
   ],
   "source": [
    "import math\n",
    "\n",
    "n, allPay = map(int, input().split())\n",
    "count = 0\n",
    "\n",
    "coinList = list(int(input()) for _ in range(n))\n",
    "coinList.reverse()\n",
    "\n",
    "for coin in coinList:\n",
    "    count += math.floor(allPay / coin)\n",
    "    allPay = allPay % coin;\n",
    "    \n",
    "    if allPay == 0:\n",
    "        print(count)\n",
    "        break"
   ]
  }
 ],
 "metadata": {
  "kernelspec": {
   "display_name": "Python 3 (ipykernel)",
   "language": "python",
   "name": "python3"
  },
  "language_info": {
   "codemirror_mode": {
    "name": "ipython",
    "version": 3
   },
   "file_extension": ".py",
   "mimetype": "text/x-python",
   "name": "python",
   "nbconvert_exporter": "python",
   "pygments_lexer": "ipython3",
   "version": "3.9.7"
  }
 },
 "nbformat": 4,
 "nbformat_minor": 5
}
