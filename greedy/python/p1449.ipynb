{
 "cells": [
  {
   "cell_type": "code",
   "execution_count": 17,
   "id": "17298555",
   "metadata": {},
   "outputs": [
    {
     "name": "stdout",
     "output_type": "stream",
     "text": [
      "3 1\n",
      "3 2 1\n",
      "3\n"
     ]
    }
   ],
   "source": [
    "n, size = map(int, input().split())\n",
    "holeList = list(map(int, input().split()))\n",
    "count = 0\n",
    "\n",
    "holeList.sort()\n",
    "\n",
    "cover = 0\n",
    "for hole in holeList:\n",
    "    # 테이프로 커버 된 곳보다 구멍 위치가 더 멀다면 count++\n",
    "    if cover < hole:\n",
    "        count += 1\n",
    "        cover = hole + size - 1\n",
    "        \n",
    "print(count)"
   ]
  },
  {
   "cell_type": "code",
   "execution_count": 31,
   "id": "a9e0f88c",
   "metadata": {},
   "outputs": [
    {
     "name": "stdout",
     "output_type": "stream",
     "text": [
      "5 8 4\n",
      "1\n",
      "1\n",
      "0\n",
      "0\n"
     ]
    }
   ],
   "source": []
  }
 ],
 "metadata": {
  "kernelspec": {
   "display_name": "Python 3 (ipykernel)",
   "language": "python",
   "name": "python3"
  },
  "language_info": {
   "codemirror_mode": {
    "name": "ipython",
    "version": 3
   },
   "file_extension": ".py",
   "mimetype": "text/x-python",
   "name": "python",
   "nbconvert_exporter": "python",
   "pygments_lexer": "ipython3",
   "version": "3.9.7"
  }
 },
 "nbformat": 4,
 "nbformat_minor": 5
}
